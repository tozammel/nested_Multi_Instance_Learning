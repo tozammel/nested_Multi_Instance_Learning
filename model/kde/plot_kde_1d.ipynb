{
 "cells": [
  {
   "cell_type": "code",
   "execution_count": 1,
   "metadata": {},
   "outputs": [],
   "source": [
    "%matplotlib inline"
   ]
  },
  {
   "cell_type": "markdown",
   "metadata": {},
   "source": [
    "\n",
    "# Simple 1D Kernel Density Estimation\n",
    "\n",
    "This example uses the :class:`sklearn.neighbors.KernelDensity` class to\n",
    "demonstrate the principles of Kernel Density Estimation in one dimension.\n",
    "\n",
    "The first plot shows one of the problems with using histograms to visualize\n",
    "the density of points in 1D. Intuitively, a histogram can be thought of as a\n",
    "scheme in which a unit \"block\" is stacked above each point on a regular grid.\n",
    "As the top two panels show, however, the choice of gridding for these blocks\n",
    "can lead to wildly divergent ideas about the underlying shape of the density\n",
    "distribution.  If we instead center each block on the point it represents, we\n",
    "get the estimate shown in the bottom left panel.  This is a kernel density\n",
    "estimation with a \"top hat\" kernel.  This idea can be generalized to other\n",
    "kernel shapes: the bottom-right panel of the first figure shows a Gaussian\n",
    "kernel density estimate over the same distribution.\n",
    "\n",
    "Scikit-learn implements efficient kernel density estimation using either\n",
    "a Ball Tree or KD Tree structure, through the\n",
    ":class:`sklearn.neighbors.KernelDensity` estimator.  The available kernels\n",
    "are shown in the second figure of this example.\n",
    "\n",
    "The third figure compares kernel density estimates for a distribution of 100\n",
    "samples in 1 dimension.  Though this example uses 1D distributions, kernel\n",
    "density estimation is easily and efficiently extensible to higher dimensions\n",
    "as well.\n"
   ]
  },
  {
   "cell_type": "code",
   "execution_count": 2,
   "metadata": {},
   "outputs": [
    {
     "ename": "TypeError",
     "evalue": "'float' object cannot be interpreted as an integer",
     "output_type": "error",
     "traceback": [
      "\u001b[0;31m---------------------------------------------------------------------------\u001b[0m",
      "\u001b[0;31mTypeError\u001b[0m                                 Traceback (most recent call last)",
      "\u001b[0;32m<ipython-input-2-492704b62744>\u001b[0m in \u001b[0;36m<module>\u001b[0;34m()\u001b[0m\n\u001b[1;32m     11\u001b[0m \u001b[0mnp\u001b[0m\u001b[0;34m.\u001b[0m\u001b[0mrandom\u001b[0m\u001b[0;34m.\u001b[0m\u001b[0mseed\u001b[0m\u001b[0;34m(\u001b[0m\u001b[0;36m1\u001b[0m\u001b[0;34m)\u001b[0m\u001b[0;34m\u001b[0m\u001b[0m\n\u001b[1;32m     12\u001b[0m \u001b[0mN\u001b[0m \u001b[0;34m=\u001b[0m \u001b[0;36m20\u001b[0m\u001b[0;34m\u001b[0m\u001b[0m\n\u001b[0;32m---> 13\u001b[0;31m X = np.concatenate((np.random.normal(0, 1, 0.3 * N),\n\u001b[0m\u001b[1;32m     14\u001b[0m                     np.random.normal(5, 1, 0.7 * N)))[:, np.newaxis]\n\u001b[1;32m     15\u001b[0m \u001b[0mX_plot\u001b[0m \u001b[0;34m=\u001b[0m \u001b[0mnp\u001b[0m\u001b[0;34m.\u001b[0m\u001b[0mlinspace\u001b[0m\u001b[0;34m(\u001b[0m\u001b[0;34m-\u001b[0m\u001b[0;36m5\u001b[0m\u001b[0;34m,\u001b[0m \u001b[0;36m10\u001b[0m\u001b[0;34m,\u001b[0m \u001b[0;36m1000\u001b[0m\u001b[0;34m)\u001b[0m\u001b[0;34m[\u001b[0m\u001b[0;34m:\u001b[0m\u001b[0;34m,\u001b[0m \u001b[0mnp\u001b[0m\u001b[0;34m.\u001b[0m\u001b[0mnewaxis\u001b[0m\u001b[0;34m]\u001b[0m\u001b[0;34m\u001b[0m\u001b[0m\n",
      "\u001b[0;32mmtrand.pyx\u001b[0m in \u001b[0;36mmtrand.RandomState.normal (numpy/random/mtrand/mtrand.c:20676)\u001b[0;34m()\u001b[0m\n",
      "\u001b[0;32mmtrand.pyx\u001b[0m in \u001b[0;36mmtrand.cont2_array_sc (numpy/random/mtrand/mtrand.c:7401)\u001b[0;34m()\u001b[0m\n",
      "\u001b[0;31mTypeError\u001b[0m: 'float' object cannot be interpreted as an integer"
     ]
    }
   ],
   "source": [
    "# Author: Jake Vanderplas <jakevdp@cs.washington.edu>\n",
    "#\n",
    "import numpy as np\n",
    "import matplotlib.pyplot as plt\n",
    "from scipy.stats import norm\n",
    "from sklearn.neighbors import KernelDensity\n",
    "\n",
    "\n",
    "#----------------------------------------------------------------------\n",
    "# Plot the progression of histograms to kernels\n",
    "np.random.seed(1)\n",
    "N = 20\n",
    "X = np.concatenate((np.random.normal(0, 1, 0.3 * N),\n",
    "                    np.random.normal(5, 1, 0.7 * N)))[:, np.newaxis]\n",
    "X_plot = np.linspace(-5, 10, 1000)[:, np.newaxis]\n",
    "bins = np.linspace(-5, 10, 10)\n",
    "\n",
    "fig, ax = plt.subplots(2, 2, sharex=True, sharey=True)\n",
    "fig.subplots_adjust(hspace=0.05, wspace=0.05)\n",
    "\n",
    "# histogram 1\n",
    "ax[0, 0].hist(X[:, 0], bins=bins, fc='#AAAAFF', normed=True)\n",
    "ax[0, 0].text(-3.5, 0.31, \"Histogram\")\n",
    "\n",
    "# histogram 2\n",
    "ax[0, 1].hist(X[:, 0], bins=bins + 0.75, fc='#AAAAFF', normed=True)\n",
    "ax[0, 1].text(-3.5, 0.31, \"Histogram, bins shifted\")\n",
    "\n",
    "# tophat KDE\n",
    "kde = KernelDensity(kernel='tophat', bandwidth=0.75).fit(X)\n",
    "log_dens = kde.score_samples(X_plot)\n",
    "ax[1, 0].fill(X_plot[:, 0], np.exp(log_dens), fc='#AAAAFF')\n",
    "ax[1, 0].text(-3.5, 0.31, \"Tophat Kernel Density\")\n",
    "\n",
    "# Gaussian KDE\n",
    "kde = KernelDensity(kernel='gaussian', bandwidth=0.75).fit(X)\n",
    "log_dens = kde.score_samples(X_plot)\n",
    "ax[1, 1].fill(X_plot[:, 0], np.exp(log_dens), fc='#AAAAFF')\n",
    "ax[1, 1].text(-3.5, 0.31, \"Gaussian Kernel Density\")\n",
    "\n",
    "for axi in ax.ravel():\n",
    "    axi.plot(X[:, 0], np.zeros(X.shape[0]) - 0.01, '+k')\n",
    "    axi.set_xlim(-4, 9)\n",
    "    axi.set_ylim(-0.02, 0.34)\n",
    "\n",
    "for axi in ax[:, 0]:\n",
    "    axi.set_ylabel('Normalized Density')\n",
    "\n",
    "for axi in ax[1, :]:\n",
    "    axi.set_xlabel('x')\n",
    "\n",
    "#----------------------------------------------------------------------\n",
    "# Plot all available kernels\n",
    "X_plot = np.linspace(-6, 6, 1000)[:, None]\n",
    "X_src = np.zeros((1, 1))\n",
    "\n",
    "fig, ax = plt.subplots(2, 3, sharex=True, sharey=True)\n",
    "fig.subplots_adjust(left=0.05, right=0.95, hspace=0.05, wspace=0.05)\n",
    "\n",
    "\n",
    "def format_func(x, loc):\n",
    "    if x == 0:\n",
    "        return '0'\n",
    "    elif x == 1:\n",
    "        return 'h'\n",
    "    elif x == -1:\n",
    "        return '-h'\n",
    "    else:\n",
    "        return '%ih' % x\n",
    "\n",
    "for i, kernel in enumerate(['gaussian', 'tophat', 'epanechnikov',\n",
    "                            'exponential', 'linear', 'cosine']):\n",
    "    axi = ax.ravel()[i]\n",
    "    log_dens = KernelDensity(kernel=kernel).fit(X_src).score_samples(X_plot)\n",
    "    axi.fill(X_plot[:, 0], np.exp(log_dens), '-k', fc='#AAAAFF')\n",
    "    axi.text(-2.6, 0.95, kernel)\n",
    "\n",
    "    axi.xaxis.set_major_formatter(plt.FuncFormatter(format_func))\n",
    "    axi.xaxis.set_major_locator(plt.MultipleLocator(1))\n",
    "    axi.yaxis.set_major_locator(plt.NullLocator())\n",
    "\n",
    "    axi.set_ylim(0, 1.05)\n",
    "    axi.set_xlim(-2.9, 2.9)\n",
    "\n",
    "ax[0, 1].set_title('Available Kernels')\n",
    "\n",
    "#----------------------------------------------------------------------\n",
    "# Plot a 1D density example\n",
    "N = 100\n",
    "np.random.seed(1)\n",
    "X = np.concatenate((np.random.normal(0, 1, 0.3 * N),\n",
    "                    np.random.normal(5, 1, 0.7 * N)))[:, np.newaxis]\n",
    "\n",
    "X_plot = np.linspace(-5, 10, 1000)[:, np.newaxis]\n",
    "\n",
    "true_dens = (0.3 * norm(0, 1).pdf(X_plot[:, 0])\n",
    "             + 0.7 * norm(5, 1).pdf(X_plot[:, 0]))\n",
    "\n",
    "fig, ax = plt.subplots()\n",
    "ax.fill(X_plot[:, 0], true_dens, fc='black', alpha=0.2,\n",
    "        label='input distribution')\n",
    "\n",
    "for kernel in ['gaussian', 'tophat', 'epanechnikov']:\n",
    "    kde = KernelDensity(kernel=kernel, bandwidth=0.5).fit(X)\n",
    "    log_dens = kde.score_samples(X_plot)\n",
    "    ax.plot(X_plot[:, 0], np.exp(log_dens), '-',\n",
    "            label=\"kernel = '{0}'\".format(kernel))\n",
    "\n",
    "ax.text(6, 0.38, \"N={0} points\".format(N))\n",
    "\n",
    "ax.legend(loc='upper left')\n",
    "ax.plot(X[:, 0], -0.005 - 0.01 * np.random.random(X.shape[0]), '+k')\n",
    "\n",
    "ax.set_xlim(-4, 9)\n",
    "ax.set_ylim(-0.02, 0.4)\n",
    "plt.show()"
   ]
  },
  {
   "cell_type": "code",
   "execution_count": 4,
   "metadata": {},
   "outputs": [
    {
     "name": "stdout",
     "output_type": "stream",
     "text": [
      "Package Versions:\n",
      "  scikit-learn: 0.18.1\n",
      "  scipy: 0.19.0\n",
      "  statsmodels: 0.8.0\n"
     ]
    }
   ],
   "source": [
    "from sklearn.neighbors import KernelDensity\n",
    "from scipy.stats import gaussian_kde\n",
    "from statsmodels.nonparametric.kde import KDEUnivariate\n",
    "from statsmodels.nonparametric.kernel_density import KDEMultivariate\n",
    "\n",
    "\n",
    "def kde_scipy(x, x_grid, bandwidth=0.2, **kwargs):\n",
    "    \"\"\"Kernel Density Estimation with Scipy\"\"\"\n",
    "    # Note that scipy weights its bandwidth by the covariance of the\n",
    "    # input data.  To make the results comparable to the other methods,\n",
    "    # we divide the bandwidth by the sample standard deviation here.\n",
    "    kde = gaussian_kde(x, bw_method=bandwidth / x.std(ddof=1), **kwargs)\n",
    "    return kde.evaluate(x_grid)\n",
    "\n",
    "\n",
    "def kde_statsmodels_u(x, x_grid, bandwidth=0.2, **kwargs):\n",
    "    \"\"\"Univariate Kernel Density Estimation with Statsmodels\"\"\"\n",
    "    kde = KDEUnivariate(x)\n",
    "    kde.fit(bw=bandwidth, **kwargs)\n",
    "    return kde.evaluate(x_grid)\n",
    "    \n",
    "    \n",
    "def kde_statsmodels_m(x, x_grid, bandwidth=0.2, **kwargs):\n",
    "    \"\"\"Multivariate Kernel Density Estimation with Statsmodels\"\"\"\n",
    "    kde = KDEMultivariate(x, bw=bandwidth * np.ones_like(x),\n",
    "                          var_type='c', **kwargs)\n",
    "    return kde.pdf(x_grid)\n",
    "\n",
    "\n",
    "def kde_sklearn(x, x_grid, bandwidth=0.2, **kwargs):\n",
    "    \"\"\"Kernel Density Estimation with Scikit-learn\"\"\"\n",
    "    kde_skl = KernelDensity(bandwidth=bandwidth, **kwargs)\n",
    "    kde_skl.fit(x[:, np.newaxis])\n",
    "    \n",
    "    # score_samples() returns the log-likelihood of the samples\n",
    "    log_pdf = kde_skl.score_samples(x_grid[:, np.newaxis])\n",
    "    return np.exp(log_pdf)\n",
    "\n",
    "\n",
    "kde_funcs = [kde_statsmodels_u, kde_statsmodels_m, kde_scipy, kde_sklearn]\n",
    "kde_funcnames = ['Statsmodels-U', 'Statsmodels-M', 'Scipy', 'Scikit-learn']\n",
    "\n",
    "print(\"Package Versions:\")\n",
    "import sklearn; print(\"  scikit-learn:\", sklearn.__version__)\n",
    "import scipy; print(\"  scipy:\", scipy.__version__)\n",
    "import statsmodels; print(\"  statsmodels:\", statsmodels.__version__)"
   ]
  },
  {
   "cell_type": "code",
   "execution_count": 5,
   "metadata": {
    "collapsed": true
   },
   "outputs": [],
   "source": [
    "%matplotlib inline\n",
    "import numpy as np\n",
    "import matplotlib.pyplot as plt\n",
    "from scipy.stats.distributions import norm"
   ]
  },
  {
   "cell_type": "code",
   "execution_count": 6,
   "metadata": {},
   "outputs": [
    {
     "name": "stderr",
     "output_type": "stream",
     "text": [
      "/usr/local/lib/python3.6/site-packages/statsmodels/nonparametric/_kernel_base.py:514: VisibleDeprecationWarning: boolean index did not match indexed array along dimension 0; dimension is 500 but corresponding boolean dimension is 1\n",
      "  dens = Kval.prod(axis=1) / np.prod(bw[iscontinuous])\n"
     ]
    },
    {
     "data": {
      "text/html": [
       "<font color='#666666'>Gray = True underlying distribution</font><br><font color='6666ff'>Blue = KDE model distribution (500 pts)</font>"
      ],
      "text/plain": [
       "<IPython.core.display.HTML object>"
      ]
     },
     "execution_count": 6,
     "metadata": {},
     "output_type": "execute_result"
    },
    {
     "data": {
      "image/png": "[encoded data removed]",
      "text/plain": [
       "<matplotlib.figure.Figure at 0x10cfe7a90>"
      ]
     },
     "metadata": {},
     "output_type": "display_data"
    }
   ],
   "source": [
    "# The grid we'll use for plotting\n",
    "x_grid = np.linspace(-4.5, 3.5, 1000)\n",
    "\n",
    "# Draw points from a bimodal distribution in 1D\n",
    "np.random.seed(0)\n",
    "x = np.concatenate([norm(-1, 1.).rvs(400),\n",
    "                    norm(1, 0.3).rvs(100)])\n",
    "pdf_true = (0.8 * norm(-1, 1).pdf(x_grid) +\n",
    "            0.2 * norm(1, 0.3).pdf(x_grid))\n",
    "\n",
    "# Plot the three kernel density estimates\n",
    "fig, ax = plt.subplots(1, 4, sharey=True,\n",
    "                       figsize=(13, 3))\n",
    "fig.subplots_adjust(wspace=0)\n",
    "\n",
    "for i in range(4):\n",
    "    pdf = kde_funcs[i](x, x_grid, bandwidth=0.2)\n",
    "    ax[i].plot(x_grid, pdf, color='blue', alpha=0.5, lw=3)\n",
    "    ax[i].fill(x_grid, pdf_true, ec='gray', fc='gray', alpha=0.4)\n",
    "    ax[i].set_title(kde_funcnames[i])\n",
    "    ax[i].set_xlim(-4.5, 3.5)\n",
    "    \n",
    "from IPython.display import HTML\n",
    "HTML(\"<font color='#666666'>Gray = True underlying distribution</font><br>\"\n",
    "     \"<font color='6666ff'>Blue = KDE model distribution (500 pts)</font>\")"
   ]
  },
  {
   "cell_type": "code",
   "execution_count": 9,
   "metadata": {},
   "outputs": [
    {
     "name": "stdout",
     "output_type": "stream",
     "text": [
      "500 -3.77259275643 1.80886721577\n"
     ]
    }
   ],
   "source": [
    "print(len(x), min(x), max(x))"
   ]
  }
 ],
 "metadata": {
  "kernelspec": {
   "display_name": "Python 3",
   "language": "python",
   "name": "python3"
  },
  "language_info": {
   "codemirror_mode": {
    "name": "ipython",
    "version": 3
   },
   "file_extension": ".py",
   "mimetype": "text/x-python",
   "name": "python",
   "nbconvert_exporter": "python",
   "pygments_lexer": "ipython3",
   "version": "3.6.1"
  }
 },
 "nbformat": 4,
 "nbformat_minor": 1
}
